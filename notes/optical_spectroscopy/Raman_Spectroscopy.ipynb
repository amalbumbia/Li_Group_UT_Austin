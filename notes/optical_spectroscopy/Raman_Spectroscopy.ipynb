{
  "nbformat": 4,
  "nbformat_minor": 0,
  "metadata": {
    "colab": {
      "provenance": [],
      "include_colab_link": true
    },
    "kernelspec": {
      "name": "python3",
      "display_name": "Python 3"
    },
    "language_info": {
      "name": "python"
    }
  },
  "cells": [
    {
      "cell_type": "markdown",
      "metadata": {
        "id": "view-in-github",
        "colab_type": "text"
      },
      "source": [
        "<a href=\"https://colab.research.google.com/github/amalbumbia/Li_Group_UT_Austin/blob/main/Raman_Spectroscopy.ipynb\" target=\"_parent\"><img src=\"https://colab.research.google.com/assets/colab-badge.svg\" alt=\"Open In Colab\"/></a>"
      ]
    },
    {
      "cell_type": "markdown",
      "source": [
        "#Notes for contributors:\n",
        "Catherine: I'm putting things in brackets to remind myself to reword it"
      ],
      "metadata": {
        "id": "7wYIJymfuGiI"
      }
    },
    {
      "cell_type": "markdown",
      "source": [
        "#**Introduction**\n",
        "###What is spectroscopy?\n",
        "Spectroscopy is the study of investigating electromagnetic radiation emitted or absorbed by matter.\n",
        "<br> [An electron can be in various quantum states whose difference in energy levels is equal to the amount of energy emitted or absorbed by the atom via a photon]. By extracting the frequency $\\nu$ associated with this energy gap using the equation Planck's equation---$E=h\\nu$, where $h=6.626*10^{-34}$---one can analyze the electronic structure of the material.\n",
        "\n",
        "(Maybe include something about why we use Raman in Li lab, what we're using it on)\n",
        "<br>\n",
        "###What is Raman spectroscopy?\n",
        "(organize section later. Make more condensed, precise, maybe more Layman)\n",
        "\n",
        "**Raman spectroscopy** is the measuring of the frequency shift after scattered photons are expelled from a molecule when an incident photon hits it. The behavior of scattering is determined by the chemical composition (a sort of \"fingerprint\", if you will) of the molecule.\n",
        "<br>\n",
        "In **infrared spectroscopy**, a range of IR energies is directed at a sample. The loss of the frequency corresponding to the energy that is absorbed by the sample in the beam after it passes is detected. Contrastly, Raman spectroscopy uses a single frequency to irradiate radiation from the sample, and it is this light that is detected.\n",
        "<br>\n",
        "A molecule is **Raman active** if the electron cloud that surrounds it experiences a change in polarizability (i.e., a change in size, shape, or orientation). Vibrations in the molecule that cause individual bonds to stretch can cause these changes in polarization. Symmetrical vibrations cause more intense Raman scattering as a result of symmetrical stretching (where the bonds within the molecule are displaced from their equilibrium position). Asymmetrical stretching, on the other hand, induces a net polarization of zero because the sum of individual polarization of bonds cancel out.\n",
        "<br>\n",
        "You can obtain the shift in energy by taking the difference of the scattered energy and the energy of the light source.\n",
        "<br>\n",
        "**Stokes scattering** is observed when the scattered photon has lower energy than the incident photon, and the molecule is promoted from a ground vibrational state to a higher, excited vibrational state. Conversely, **anti-Stokes** scattering is observed when the scattered photon has higher energy than the incident photon, and the molecule is demoted from high to ground vibrational states. The intensity of scattering depends on the population of states in the molecules, which can be worked out by the **Boltzmann equation**. However, one can expect more low-energy states than higher ones. Therefore, less excited vibrational states will result in weaker detection of anti-Stokes scattering, but at higher temperatures (more vibrations) anti-Stokes scattering will increase compared to its counterpart. This also means that temperature can be measured by taking the difference in intensities of Stokes and anti-Stokes Raman bands.\n",
        "<br>\n",
        "<br>\n",
        "\n",
        "<br>\n",
        "//(Insert figure here)\n",
        "<br>\n",
        "The x-axis displays wavenumbers in $cm^{-1}$ ($1/\\lambda$, how many waves can fit into 1 cm), while the y-axis displays how much light is absorbed.\n"
      ],
      "metadata": {
        "id": "x6XLOJGr6D5C"
      }
    },
    {
      "cell_type": "markdown",
      "source": [
        "#**Theory**\n",
        "Let $N$ be the number of atoms in a given molecule. To determine the number of vibrations possible for that molecule, you must determine its vibrational degrees of freedom. If there is no change in the electronic energy of a molecule (i.e., electrons don't move to higher or lower states), then the degrees of freedom (DoF) is taken to be $3N-6$. Three of these DoFs describes translational motion, while a different three describes rotational motion. There is an exception: since linear molecules can rotate in only two ways, the DoF equation is $3N-2$.\n",
        "<br><br>\n",
        "For example, O2 ($N=2$) has $3(2)-5=1$ DoF and therefore only one type of vibration caused by the stretching of the O=O bond. Thus, only Raman scattering is detected. Nitric oxide (NO, $N=1$), although it also only has 1 DoF, has bands in both Raman and IR spectrums because the stretching causes a polarizability AND dipole change.\n",
        "<br>\n",
        "[picture here would be good]\n",
        "<br><br>\n",
        "Stronger bonds and light atoms have higher vibrational frequency.\n"
      ],
      "metadata": {
        "id": "ZxMqOwTOzeAy"
      }
    },
    {
      "cell_type": "markdown",
      "source": [
        "#**Instrumentation**\n",
        "###Types of lasers used\n",
        "*   Krypton ion (531-647nm)\n",
        "*   He:Ne (632.8 nm)\n",
        "*   Nd:YAG argon ion (1064 nm)\n",
        "*   Diode laser (630, 780 nm)\n"
      ],
      "metadata": {
        "id": "gY2t60dZ2ewA"
      }
    },
    {
      "cell_type": "markdown",
      "source": [
        "# **Citations**\n",
        "\n",
        "(Fix later:)\n",
        "https://www.britannica.com/science/spectroscopy/Basic-properties-of-atoms\n",
        "\n"
      ],
      "metadata": {
        "id": "n2J_nrF94SH_"
      }
    }
  ]
}